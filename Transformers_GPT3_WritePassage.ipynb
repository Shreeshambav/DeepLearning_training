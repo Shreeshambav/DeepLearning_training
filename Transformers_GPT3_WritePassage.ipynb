{
  "nbformat": 4,
  "nbformat_minor": 0,
  "metadata": {
    "colab": {
      "provenance": [],
      "gpuType": "T4",
      "authorship_tag": "ABX9TyPQySE2JrVcgfkVvrSRNk18",
      "include_colab_link": true
    },
    "kernelspec": {
      "name": "python3",
      "display_name": "Python 3"
    },
    "language_info": {
      "name": "python"
    },
    "accelerator": "GPU"
  },
  "cells": [
    {
      "cell_type": "markdown",
      "metadata": {
        "id": "view-in-github",
        "colab_type": "text"
      },
      "source": [
        "<a href=\"https://colab.research.google.com/github/Shreeshambav/DeepLearning_training/blob/main/Transformers_GPT3_WritePassage.ipynb\" target=\"_parent\"><img src=\"https://colab.research.google.com/assets/colab-badge.svg\" alt=\"Open In Colab\"/></a>"
      ]
    },
    {
      "cell_type": "code",
      "execution_count": null,
      "metadata": {
        "id": "L2enlX6gvIbm"
      },
      "outputs": [],
      "source": [
        "# Install OpenAI library\n",
        "!pip install openai"
      ]
    },
    {
      "cell_type": "code",
      "source": [
        "# Import necessary modules\n",
        "import openai"
      ],
      "metadata": {
        "id": "yL_Xc_wUvMtC"
      },
      "execution_count": null,
      "outputs": []
    },
    {
      "cell_type": "code",
      "source": [
        "# Set your OpenAI API key\n",
        "openai.api_key = 'your_api_key'"
      ],
      "metadata": {
        "id": "dNXGP1bkvOTZ"
      },
      "execution_count": null,
      "outputs": []
    },
    {
      "cell_type": "code",
      "source": [
        "# Define the prompt\n",
        "prompt = \"Who is Shree Shambav?\""
      ],
      "metadata": {
        "id": "500MP6aDvQGM"
      },
      "execution_count": null,
      "outputs": []
    },
    {
      "cell_type": "code",
      "source": [
        "# Generate text using GPT-3\n",
        "response = openai.Completion.create(\n",
        "  engine=\"text-davinci-002\",\n",
        "  prompt=prompt,\n",
        "  max_tokens=100\n",
        ")"
      ],
      "metadata": {
        "id": "1p4Hjvs1vku6"
      },
      "execution_count": null,
      "outputs": []
    },
    {
      "cell_type": "code",
      "source": [
        "# Extract the generated text from the response\n",
        "generated_text = response.choices[0].text.strip()"
      ],
      "metadata": {
        "id": "lRdbtR7Kvnuz"
      },
      "execution_count": null,
      "outputs": []
    },
    {
      "cell_type": "code",
      "source": [
        "# Print the generated text\n",
        "print(generated_text)"
      ],
      "metadata": {
        "id": "cw_Dph6nvrt4"
      },
      "execution_count": null,
      "outputs": []
    }
  ]
}