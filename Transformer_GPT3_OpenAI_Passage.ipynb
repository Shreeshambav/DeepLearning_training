{
  "nbformat": 4,
  "nbformat_minor": 0,
  "metadata": {
    "colab": {
      "provenance": [],
      "authorship_tag": "ABX9TyPQySE2JrVcgfkVvrSRNk18",
      "include_colab_link": true
    },
    "kernelspec": {
      "name": "python3",
      "display_name": "Python 3"
    },
    "language_info": {
      "name": "python"
    }
  },
  "cells": [
    {
      "cell_type": "markdown",
      "metadata": {
        "id": "view-in-github",
        "colab_type": "text"
      },
      "source": [
        "<a href=\"https://colab.research.google.com/github/Shreeshambav/DeepLearning_training/blob/main/Transformer_GPT3_OpenAI_Passage.ipynb\" target=\"_parent\"><img src=\"https://colab.research.google.com/assets/colab-badge.svg\" alt=\"Open In Colab\"/></a>"
      ]
    },
    {
      "cell_type": "code",
      "execution_count": null,
      "metadata": {
        "id": "4ku7PiVfuCHA"
      },
      "outputs": [],
      "source": [
        "# Install OpenAI library\n",
        "!pip install openai"
      ]
    },
    {
      "cell_type": "code",
      "source": [
        "# Import necessary modules\n",
        "import openai"
      ],
      "metadata": {
        "id": "uz9M0Lj4uG-7"
      },
      "execution_count": null,
      "outputs": []
    },
    {
      "cell_type": "code",
      "source": [
        "# Set your OpenAI API key\n",
        "openai.api_key = 'your_api_key'"
      ],
      "metadata": {
        "id": "OXbKW-yfuKFB"
      },
      "execution_count": null,
      "outputs": []
    },
    {
      "cell_type": "code",
      "source": [
        "# Define the prompt\n",
        "prompt = \"Who is Shree Shambav?\""
      ],
      "metadata": {
        "id": "6yzyZaPPuMFa"
      },
      "execution_count": null,
      "outputs": []
    },
    {
      "cell_type": "code",
      "source": [
        "# Generate text using GPT-3\n",
        "response = openai.Completion.create(\n",
        "  engine=\"text-davinci-002\",\n",
        "  prompt=prompt,\n",
        "  max_tokens=100\n",
        ")"
      ],
      "metadata": {
        "id": "eSqkEAd3uOI6"
      },
      "execution_count": null,
      "outputs": []
    },
    {
      "cell_type": "code",
      "source": [
        "# Extract the generated text from the response\n",
        "generated_text = response.choices[0].text.strip()"
      ],
      "metadata": {
        "id": "wDr4PPDvuQqg"
      },
      "execution_count": null,
      "outputs": []
    },
    {
      "cell_type": "code",
      "source": [
        "# Print the generated text\n",
        "print(generated_text)"
      ],
      "metadata": {
        "id": "CmOIL1CuuTBA"
      },
      "execution_count": null,
      "outputs": []
    }
  ]
}