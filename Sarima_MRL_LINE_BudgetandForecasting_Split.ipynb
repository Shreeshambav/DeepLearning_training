{
  "nbformat": 4,
  "nbformat_minor": 0,
  "metadata": {
    "colab": {
      "provenance": [],
      "authorship_tag": "ABX9TyO5eunNpW0KihGE7RwwyIZY",
      "include_colab_link": true
    },
    "kernelspec": {
      "name": "python3",
      "display_name": "Python 3"
    },
    "language_info": {
      "name": "python"
    }
  },
  "cells": [
    {
      "cell_type": "markdown",
      "metadata": {
        "id": "view-in-github",
        "colab_type": "text"
      },
      "source": [
        "<a href=\"https://colab.research.google.com/github/Shreeshambav/DeepLearning_training/blob/main/Sarima_MRL_LINE_BudgetandForecasting_Split.ipynb\" target=\"_parent\"><img src=\"https://colab.research.google.com/assets/colab-badge.svg\" alt=\"Open In Colab\"/></a>"
      ]
    },
    {
      "cell_type": "code",
      "execution_count": null,
      "metadata": {
        "id": "fTGuvwvK-BJS"
      },
      "outputs": [],
      "source": [
        "\n"
      ]
    },
    {
      "cell_type": "code",
      "source": [
        "from google.colab import files\n",
        "uploaded = files.upload()"
      ],
      "metadata": {
        "id": "Mrx8qQZA9LQd"
      },
      "execution_count": null,
      "outputs": []
    },
    {
      "cell_type": "code",
      "source": [
        "import pandas as pd\n",
        "\n",
        "# Load the data from the provided dataset\n",
        "data_file_path = 'C:\\\\Users\\\\mraj4\\\\Documents\\\\OptimumPython\\\\DS\\\\DL\\\\Sunoida\\\\Working_data\\\\Budget_merged_file_Cat_with_outliers_replaced.xlsx'\n",
        "forecast_file_path = 'C:\\\\Users\\\\mraj4\\\\Documents\\\\OptimumPython\\\\DS\\\\DL\\\\Sunoida\\\\Sarima\\\\forecast.csv'\n",
        "\n",
        "# Step 1: Load the data\n",
        "df_data = pd.read_excel(data_file_path)\n",
        "df_forecast = pd.read_csv(forecast_file_path)\n",
        "\n",
        "# Step 2: Preprocess the data\n",
        "# Drop rows with missing values in the specified columns\n",
        "df_data = df_data.dropna(subset=[\"01\", \"02\", \"03\", \"04\", \"05\", \"06\", \"07\", \"08\", \"09\", \"10\", \"11\", \"12\"])\n",
        "\n",
        "# Step 3: Create MRL groups based on 'MRL_LINE'\n",
        "mrl_groups = df_data.groupby('MRL_LINE')\n",
        "\n",
        "# Step 4: Create a DataFrame to store the final results\n",
        "forecast_data = []\n",
        "\n",
        "# Step 5: Perform SARIMA forecasting for each MRL group and month\n",
        "for name, group in mrl_groups:\n",
        "    # Get the historical data for the MRL group\n",
        "    historical_data = group.drop(['COUNTRY', 'VISION_OUC', 'CURRENCY'], axis=1)\n",
        "\n",
        "    # Filter forecast data for the current MRL group and category\n",
        "    mrl_category = tuple(historical_data.iloc[0, -4:].values)\n",
        "    forecast_group = df_forecast[df_forecast['Category'] == str(mrl_category)]\n",
        "\n",
        "    # Loop through forecast data and add the SARIMA forecast for each month\n",
        "    for _, row in forecast_group.iterrows():\n",
        "        year = row['Year']\n",
        "        month = row['Month']\n",
        "        sarima_forecast = row['SARIMA_Forecast']\n",
        "\n",
        "        # Check if historical_data is not empty and contains data for the given year and month\n",
        "        if not historical_data.empty and len(historical_data.loc[(historical_data['Year'] == year) & (historical_data[str(month).zfill(2)] != 0)]) > 0:\n",
        "            # Get the historical actual expenditure for the given year and month\n",
        "            actual_expenditure = historical_data.loc[(historical_data['Year'] == year) & (historical_data[str(month).zfill(2)] != 0), str(month).zfill(2)].values[0]\n",
        "        else:\n",
        "            actual_expenditure = None\n",
        "\n",
        "        # Append the forecast result and actual expenditure for the current MRL group, year, and month to the final data\n",
        "        forecast_data.append([name, year, month, sarima_forecast, actual_expenditure])\n",
        "\n",
        "# Step 6: Consolidate the results and save them to the final output sheet\n",
        "df_final_forecast = pd.DataFrame(forecast_data, columns=['MRL_LINE', 'Year', 'Month', 'SARIMA_Forecast', 'Actual_Expenditure'])\n",
        "\n",
        "# Save the final output to a new CSV file\n",
        "df_final_forecast.to_csv('C:\\\\Users\\\\mraj4\\\\Documents\\\\OptimumPython\\\\DS\\\\DL\\\\Sunoida\\\\Sarima\\\\Actual_vs_SARIMA_Forecast.csv', index=False)"
      ],
      "metadata": {
        "id": "FavW28r99P7Q"
      },
      "execution_count": null,
      "outputs": []
    }
  ]
}