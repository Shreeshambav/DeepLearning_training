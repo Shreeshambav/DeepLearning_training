{
  "nbformat": 4,
  "nbformat_minor": 0,
  "metadata": {
    "colab": {
      "provenance": [],
      "gpuType": "T4",
      "authorship_tag": "ABX9TyOZHp9obVzVsLtHZX0llhlJ",
      "include_colab_link": true
    },
    "kernelspec": {
      "name": "python3",
      "display_name": "Python 3"
    },
    "language_info": {
      "name": "python"
    },
    "accelerator": "GPU"
  },
  "cells": [
    {
      "cell_type": "markdown",
      "metadata": {
        "id": "view-in-github",
        "colab_type": "text"
      },
      "source": [
        "<a href=\"https://colab.research.google.com/github/Shreeshambav/DeepLearning_training/blob/main/Deeplearning_basic_ANN.ipynb\" target=\"_parent\"><img src=\"https://colab.research.google.com/assets/colab-badge.svg\" alt=\"Open In Colab\"/></a>"
      ]
    },
    {
      "cell_type": "code",
      "execution_count": 1,
      "metadata": {
        "id": "hSjBIihI0osV"
      },
      "outputs": [],
      "source": [
        "# Deep Learning\n",
        "import numpy as np\n",
        "import matplotlib.pyplot as plt\n",
        "import pandas as pd\n"
      ]
    },
    {
      "cell_type": "code",
      "source": [
        "# Read the CSV file and store it in the 'dataset' variable\n",
        "dataset = pd.read_csv('Churn_Modelling.csv')\n",
        "\n",
        "# Display the first few rows of the dataset\n",
        "print(dataset.head())"
      ],
      "metadata": {
        "colab": {
          "base_uri": "https://localhost:8080/"
        },
        "id": "-aVIXM448_R8",
        "outputId": "557aef4a-f670-4edf-96ba-08df1e66751a"
      },
      "execution_count": 3,
      "outputs": [
        {
          "output_type": "stream",
          "name": "stdout",
          "text": [
            "   RowNumber  CustomerId   Surname  CreditScore Geography  Gender  Age  \\\n",
            "0          1    15634602  Hargrave          619    France  Female   42   \n",
            "1          2    15647311      Hill          608     Spain  Female   41   \n",
            "2          3    15619304      Onio          502    France  Female   42   \n",
            "3          4    15701354      Boni          699    France  Female   39   \n",
            "4          5    15737888  Mitchell          850     Spain  Female   43   \n",
            "\n",
            "   Tenure    Balance  NumOfProducts  HasCrCard  IsActiveMember  \\\n",
            "0       2       0.00              1          1               1   \n",
            "1       1   83807.86              1          0               1   \n",
            "2       8  159660.80              3          1               0   \n",
            "3       1       0.00              2          0               0   \n",
            "4       2  125510.82              1          1               1   \n",
            "\n",
            "   EstimatedSalary  Exited  \n",
            "0        101348.88       1  \n",
            "1        112542.58       0  \n",
            "2        113931.57       1  \n",
            "3         93826.63       0  \n",
            "4         79084.10       0  \n"
          ]
        }
      ]
    },
    {
      "cell_type": "code",
      "source": [
        "# From the dataset we understand that what has to be done to stop customer from exiting the bank\n",
        "# For further analysis we need to divide daatset into independent and dependent features\n",
        "# On analysing the data ecept Eited column rest are independent features\n",
        "# Following column do not add any value to analysis RowNumber  CustomerId   Surname so we go ahead and drop those columns\n",
        "# Exited columns states - Customer exited or not exited a binary classification\n",
        "# Geography and Gender are categorical variables or features.\n"
      ],
      "metadata": {
        "id": "-rLbVnQy96M1"
      },
      "execution_count": null,
      "outputs": []
    },
    {
      "cell_type": "code",
      "source": [
        "# Selection of Columns:\n",
        "# Starting from column 3 to 13\n",
        "X=dataset.iloc[:,3:13]\n",
        "y=dataset.iloc[:,13]\n"
      ],
      "metadata": {
        "id": "_4avYLRZ_STW"
      },
      "execution_count": 6,
      "outputs": []
    },
    {
      "cell_type": "code",
      "source": [
        "print(X.head())"
      ],
      "metadata": {
        "colab": {
          "base_uri": "https://localhost:8080/"
        },
        "id": "Uabr-yK-_7FM",
        "outputId": "44511350-d603-47ad-e06a-0fc4117c77ab"
      },
      "execution_count": 8,
      "outputs": [
        {
          "output_type": "stream",
          "name": "stdout",
          "text": [
            "   CreditScore Geography  Gender  Age  Tenure    Balance  NumOfProducts  \\\n",
            "0          619    France  Female   42       2       0.00              1   \n",
            "1          608     Spain  Female   41       1   83807.86              1   \n",
            "2          502    France  Female   42       8  159660.80              3   \n",
            "3          699    France  Female   39       1       0.00              2   \n",
            "4          850     Spain  Female   43       2  125510.82              1   \n",
            "\n",
            "   HasCrCard  IsActiveMember  EstimatedSalary  \n",
            "0          1               1        101348.88  \n",
            "1          0               1        112542.58  \n",
            "2          1               0        113931.57  \n",
            "3          0               0         93826.63  \n",
            "4          1               1         79084.10  \n"
          ]
        }
      ]
    },
    {
      "cell_type": "code",
      "source": [
        "print(y.head())"
      ],
      "metadata": {
        "colab": {
          "base_uri": "https://localhost:8080/"
        },
        "id": "bLnHam-uAJo1",
        "outputId": "d0d13f5b-d68f-4cca-8d05-72cd426644a9"
      },
      "execution_count": 9,
      "outputs": [
        {
          "output_type": "stream",
          "name": "stdout",
          "text": [
            "0    1\n",
            "1    0\n",
            "2    1\n",
            "3    0\n",
            "4    0\n",
            "Name: Exited, dtype: int64\n"
          ]
        }
      ]
    },
    {
      "cell_type": "code",
      "source": [
        "# Feature engineering\n",
        "# Let us fix Categorical feature using hot encoding\n",
        "geography=pd.get_dummies(X['Geography'], drop_first=True)\n",
        "print(geography)\n",
        "gender=pd.get_dummies(X['Gender'], drop_first=True)\n",
        "print(gender)\n",
        "\n"
      ],
      "metadata": {
        "colab": {
          "base_uri": "https://localhost:8080/"
        },
        "id": "YlcCffZoALKN",
        "outputId": "7953d119-a57a-4d7f-c06c-e4c781617b75"
      },
      "execution_count": 16,
      "outputs": [
        {
          "output_type": "stream",
          "name": "stdout",
          "text": [
            "      Germany  Spain\n",
            "0           0      0\n",
            "1           0      1\n",
            "2           0      0\n",
            "3           0      0\n",
            "4           0      1\n",
            "...       ...    ...\n",
            "9995        0      0\n",
            "9996        0      0\n",
            "9997        0      0\n",
            "9998        1      0\n",
            "9999        0      0\n",
            "\n",
            "[10000 rows x 2 columns]\n",
            "      Male\n",
            "0        0\n",
            "1        0\n",
            "2        0\n",
            "3        0\n",
            "4        0\n",
            "...    ...\n",
            "9995     1\n",
            "9996     1\n",
            "9997     0\n",
            "9998     1\n",
            "9999     0\n",
            "\n",
            "[10000 rows x 1 columns]\n"
          ]
        }
      ]
    },
    {
      "cell_type": "code",
      "source": [],
      "metadata": {
        "id": "o3if-5MGCDgr"
      },
      "execution_count": null,
      "outputs": []
    },
    {
      "cell_type": "code",
      "source": [
        "# Concatenate these variables with dataframe\n",
        "# First we need to drop Geography and gender column\n",
        "X=X.drop(['Geography','Gender'], axis=1)"
      ],
      "metadata": {
        "id": "Whmjui3xBdaT"
      },
      "execution_count": 27,
      "outputs": []
    },
    {
      "cell_type": "code",
      "source": [
        "# Second we need concat the encoded columns with dataframe\n",
        "X = pd.concat([X,geography,gender], axis=1)"
      ],
      "metadata": {
        "id": "40XmpYDkBrdE"
      },
      "execution_count": 28,
      "outputs": []
    },
    {
      "cell_type": "code",
      "source": [
        "# Now time to train the given dataset\n",
        "# Splitting the dataset into Training and testing dataset\n",
        "from sklearn.model_selection import train_test_split\n",
        "X_train,X_test,y_train,y_test=train_test_split(X,y,test_size=0.2,random_state=0)\n"
      ],
      "metadata": {
        "id": "wYHgW2b1CyVZ"
      },
      "execution_count": 29,
      "outputs": []
    },
    {
      "cell_type": "code",
      "source": [
        "# Feature scaling\n",
        "from sklearn.preprocessing import StandardScaler\n",
        "sc=StandardScaler()\n",
        "X_train=sc.fit_transform(X_train)\n",
        "X_test=sc.transform(X_test)"
      ],
      "metadata": {
        "id": "AVHekq9OD-Db"
      },
      "execution_count": 30,
      "outputs": []
    },
    {
      "cell_type": "code",
      "source": [
        "print(X_train)"
      ],
      "metadata": {
        "colab": {
          "base_uri": "https://localhost:8080/"
        },
        "id": "tw6CMeBeCoKz",
        "outputId": "d2b7a239-46bc-4efe-ee64-fce9ce558282"
      },
      "execution_count": 31,
      "outputs": [
        {
          "output_type": "stream",
          "name": "stdout",
          "text": [
            "[[ 0.16958176 -0.46460796  0.00666099 ... -0.5698444   1.74309049\n",
            "  -1.09168714]\n",
            " [-2.30455945  0.30102557 -1.37744033 ...  1.75486502 -0.57369368\n",
            "   0.91601335]\n",
            " [-1.19119591 -0.94312892 -1.031415   ... -0.5698444  -0.57369368\n",
            "  -1.09168714]\n",
            " ...\n",
            " [ 0.9015152  -0.36890377  0.00666099 ... -0.5698444  -0.57369368\n",
            "   0.91601335]\n",
            " [-0.62420521 -0.08179119  1.39076231 ... -0.5698444   1.74309049\n",
            "  -1.09168714]\n",
            " [-0.28401079  0.87525072 -1.37744033 ...  1.75486502 -0.57369368\n",
            "  -1.09168714]]\n"
          ]
        }
      ]
    },
    {
      "cell_type": "code",
      "source": [
        "print(X_test)"
      ],
      "metadata": {
        "colab": {
          "base_uri": "https://localhost:8080/"
        },
        "id": "_xGjhsu5E9hk",
        "outputId": "41ee7d05-a7eb-4861-c320-d01eee260202"
      },
      "execution_count": 32,
      "outputs": [
        {
          "output_type": "stream",
          "name": "stdout",
          "text": [
            "[[-0.55204276 -0.36890377  1.04473698 ...  1.75486502 -0.57369368\n",
            "  -1.09168714]\n",
            " [-1.31490297  0.10961719 -1.031415   ... -0.5698444  -0.57369368\n",
            "  -1.09168714]\n",
            " [ 0.57162971  0.30102557  1.04473698 ... -0.5698444   1.74309049\n",
            "  -1.09168714]\n",
            " ...\n",
            " [-0.74791227 -0.27319958 -1.37744033 ... -0.5698444   1.74309049\n",
            "   0.91601335]\n",
            " [-0.00566991 -0.46460796 -0.33936434 ...  1.75486502 -0.57369368\n",
            "   0.91601335]\n",
            " [-0.79945688 -0.84742473  1.04473698 ...  1.75486502 -0.57369368\n",
            "   0.91601335]]\n"
          ]
        }
      ]
    },
    {
      "cell_type": "code",
      "source": [
        "# Part 2: ANN\n",
        "from tensorflow.keras.models import Sequential\n",
        "from tensorflow.keras.layers import Dense\n",
        "from tensorflow.keras.layers import LeakyReLU,PReLU,ELU,ReLU\n",
        "from tensorflow.keras.layers import Dropout"
      ],
      "metadata": {
        "id": "bZO2CCXwE_W6"
      },
      "execution_count": 57,
      "outputs": []
    },
    {
      "cell_type": "code",
      "source": [
        "# Lets intialise the ANN\n",
        "classifier=Sequential()"
      ],
      "metadata": {
        "id": "Uhlkj3qOGFaF"
      },
      "execution_count": 58,
      "outputs": []
    },
    {
      "cell_type": "code",
      "source": [
        "# We need to add input layer since we have 11 independent column, we will have 11 input\n",
        "classifier.add(Dense(units=11, activation='relu'))"
      ],
      "metadata": {
        "id": "d-D7uTAwGZjs"
      },
      "execution_count": 59,
      "outputs": []
    },
    {
      "cell_type": "code",
      "source": [
        "# We need to add first hidden layer - depends\n",
        "classifier.add(Dense(units=7, activation='relu'))\n",
        "classifier.add(Dropout(0.2))"
      ],
      "metadata": {
        "id": "BFKVMnsDHJhZ"
      },
      "execution_count": 76,
      "outputs": []
    },
    {
      "cell_type": "code",
      "source": [
        "# We need to add Second hidden layer - depends\n",
        "classifier.add(Dense(units=6, activation='relu'))\n",
        "classifier.add(Dropout(0.3))"
      ],
      "metadata": {
        "id": "p_rimVJOHJ2Z"
      },
      "execution_count": 77,
      "outputs": []
    },
    {
      "cell_type": "code",
      "source": [
        "# We need to add Output layer - We want one put output exit or not exited\n",
        "classifier.add(Dense(1, activation='sigmoid'))"
      ],
      "metadata": {
        "id": "tgf59B02HKU4"
      },
      "execution_count": 63,
      "outputs": []
    },
    {
      "cell_type": "code",
      "source": [],
      "metadata": {
        "id": "0PiAmSQFIQ2z"
      },
      "execution_count": 42,
      "outputs": []
    },
    {
      "cell_type": "code",
      "source": [
        "import tensorflow\n",
        "opt=tensorflow.keras.optimizers.Adam(learning_rate=0.01)\n",
        "# Now we need to train our neural network\n",
        "# Compile the model with the correct loss and metrics\n",
        "classifier.compile(optimizer=opt, loss='binary_crossentropy', metrics=['accuracy'])"
      ],
      "metadata": {
        "id": "nBTi1DjFKYHZ"
      },
      "execution_count": 64,
      "outputs": []
    },
    {
      "cell_type": "code",
      "source": [
        "# How many number of epochs should be given - When accuracy becomes constant or almost same.\n",
        "# We can use Early stopping - When accuracy is not increasing.\n",
        "import tensorflow as tf\n",
        "early_stopping=tf.keras.callbacks.EarlyStopping(\n",
        "    monitor=\"val_loss\",\n",
        "    min_delta=0.0001,\n",
        "    patience=20,\n",
        "    verbose=1,\n",
        "    mode=\"auto\",\n",
        "    baseline=None,\n",
        "    restore_best_weights=False,\n",
        "    start_from_epoch=0,\n",
        ")"
      ],
      "metadata": {
        "id": "dk9xHCQnNZjU"
      },
      "execution_count": 65,
      "outputs": []
    },
    {
      "cell_type": "code",
      "source": [
        "# Start training the model\n",
        "model_history = classifier.fit(X_train, y_train, validation_split=0.33, batch_size=10, epochs=1000, callbacks=early_stopping)\n",
        "\n"
      ],
      "metadata": {
        "colab": {
          "base_uri": "https://localhost:8080/"
        },
        "id": "9eoT_-OGK5YF",
        "outputId": "65bf29ec-f5c3-4211-f2cc-00410efc30f5"
      },
      "execution_count": 66,
      "outputs": [
        {
          "output_type": "stream",
          "name": "stdout",
          "text": [
            "Epoch 1/1000\n",
            "536/536 [==============================] - 5s 5ms/step - loss: 0.4330 - accuracy: 0.8110 - val_loss: 0.4046 - val_accuracy: 0.8205\n",
            "Epoch 2/1000\n",
            "536/536 [==============================] - 3s 5ms/step - loss: 0.3738 - accuracy: 0.8421 - val_loss: 0.3973 - val_accuracy: 0.8307\n",
            "Epoch 3/1000\n",
            "536/536 [==============================] - 3s 5ms/step - loss: 0.3623 - accuracy: 0.8507 - val_loss: 0.3682 - val_accuracy: 0.8478\n",
            "Epoch 4/1000\n",
            "536/536 [==============================] - 3s 5ms/step - loss: 0.3570 - accuracy: 0.8541 - val_loss: 0.3789 - val_accuracy: 0.8470\n",
            "Epoch 5/1000\n",
            "536/536 [==============================] - 2s 5ms/step - loss: 0.3564 - accuracy: 0.8561 - val_loss: 0.3722 - val_accuracy: 0.8440\n",
            "Epoch 6/1000\n",
            "536/536 [==============================] - 3s 5ms/step - loss: 0.3504 - accuracy: 0.8563 - val_loss: 0.3811 - val_accuracy: 0.8391\n",
            "Epoch 7/1000\n",
            "536/536 [==============================] - 3s 6ms/step - loss: 0.3530 - accuracy: 0.8545 - val_loss: 0.3724 - val_accuracy: 0.8429\n",
            "Epoch 8/1000\n",
            "536/536 [==============================] - 3s 5ms/step - loss: 0.3506 - accuracy: 0.8545 - val_loss: 0.3651 - val_accuracy: 0.8459\n",
            "Epoch 9/1000\n",
            "536/536 [==============================] - 3s 5ms/step - loss: 0.3482 - accuracy: 0.8554 - val_loss: 0.3693 - val_accuracy: 0.8459\n",
            "Epoch 10/1000\n",
            "536/536 [==============================] - 2s 5ms/step - loss: 0.3473 - accuracy: 0.8595 - val_loss: 0.3651 - val_accuracy: 0.8470\n",
            "Epoch 11/1000\n",
            "536/536 [==============================] - 3s 5ms/step - loss: 0.3489 - accuracy: 0.8565 - val_loss: 0.3676 - val_accuracy: 0.8459\n",
            "Epoch 12/1000\n",
            "536/536 [==============================] - 3s 6ms/step - loss: 0.3455 - accuracy: 0.8576 - val_loss: 0.3665 - val_accuracy: 0.8478\n",
            "Epoch 13/1000\n",
            "536/536 [==============================] - 3s 5ms/step - loss: 0.3449 - accuracy: 0.8632 - val_loss: 0.3726 - val_accuracy: 0.8474\n",
            "Epoch 14/1000\n",
            "536/536 [==============================] - 2s 5ms/step - loss: 0.3437 - accuracy: 0.8600 - val_loss: 0.3759 - val_accuracy: 0.8436\n",
            "Epoch 15/1000\n",
            "536/536 [==============================] - 3s 5ms/step - loss: 0.3468 - accuracy: 0.8608 - val_loss: 0.3641 - val_accuracy: 0.8432\n",
            "Epoch 16/1000\n",
            "536/536 [==============================] - 3s 6ms/step - loss: 0.3441 - accuracy: 0.8582 - val_loss: 0.3580 - val_accuracy: 0.8504\n",
            "Epoch 17/1000\n",
            "536/536 [==============================] - 3s 5ms/step - loss: 0.3408 - accuracy: 0.8599 - val_loss: 0.3615 - val_accuracy: 0.8497\n",
            "Epoch 18/1000\n",
            "536/536 [==============================] - 3s 5ms/step - loss: 0.3414 - accuracy: 0.8580 - val_loss: 0.3711 - val_accuracy: 0.8493\n",
            "Epoch 19/1000\n",
            "536/536 [==============================] - 3s 5ms/step - loss: 0.3419 - accuracy: 0.8593 - val_loss: 0.3640 - val_accuracy: 0.8504\n",
            "Epoch 20/1000\n",
            "536/536 [==============================] - 3s 6ms/step - loss: 0.3413 - accuracy: 0.8608 - val_loss: 0.3742 - val_accuracy: 0.8444\n",
            "Epoch 21/1000\n",
            "536/536 [==============================] - 3s 5ms/step - loss: 0.3440 - accuracy: 0.8597 - val_loss: 0.3761 - val_accuracy: 0.8432\n",
            "Epoch 22/1000\n",
            "536/536 [==============================] - 3s 5ms/step - loss: 0.3417 - accuracy: 0.8619 - val_loss: 0.3774 - val_accuracy: 0.8413\n",
            "Epoch 23/1000\n",
            "536/536 [==============================] - 3s 5ms/step - loss: 0.3383 - accuracy: 0.8606 - val_loss: 0.3686 - val_accuracy: 0.8436\n",
            "Epoch 24/1000\n",
            "536/536 [==============================] - 3s 5ms/step - loss: 0.3385 - accuracy: 0.8586 - val_loss: 0.3636 - val_accuracy: 0.8489\n",
            "Epoch 25/1000\n",
            "536/536 [==============================] - 3s 6ms/step - loss: 0.3362 - accuracy: 0.8623 - val_loss: 0.3618 - val_accuracy: 0.8478\n",
            "Epoch 26/1000\n",
            "536/536 [==============================] - 3s 5ms/step - loss: 0.3376 - accuracy: 0.8615 - val_loss: 0.3620 - val_accuracy: 0.8519\n",
            "Epoch 27/1000\n",
            "536/536 [==============================] - 3s 5ms/step - loss: 0.3363 - accuracy: 0.8612 - val_loss: 0.3785 - val_accuracy: 0.8436\n",
            "Epoch 28/1000\n",
            "536/536 [==============================] - 3s 5ms/step - loss: 0.3353 - accuracy: 0.8623 - val_loss: 0.3687 - val_accuracy: 0.8470\n",
            "Epoch 29/1000\n",
            "536/536 [==============================] - 3s 6ms/step - loss: 0.3374 - accuracy: 0.8636 - val_loss: 0.3820 - val_accuracy: 0.8379\n",
            "Epoch 30/1000\n",
            "536/536 [==============================] - 3s 5ms/step - loss: 0.3368 - accuracy: 0.8602 - val_loss: 0.3718 - val_accuracy: 0.8421\n",
            "Epoch 31/1000\n",
            "536/536 [==============================] - 3s 5ms/step - loss: 0.3350 - accuracy: 0.8586 - val_loss: 0.3681 - val_accuracy: 0.8463\n",
            "Epoch 32/1000\n",
            "536/536 [==============================] - 3s 5ms/step - loss: 0.3365 - accuracy: 0.8621 - val_loss: 0.3955 - val_accuracy: 0.8345\n",
            "Epoch 33/1000\n",
            "536/536 [==============================] - 3s 5ms/step - loss: 0.3350 - accuracy: 0.8619 - val_loss: 0.3721 - val_accuracy: 0.8474\n",
            "Epoch 34/1000\n",
            "536/536 [==============================] - 3s 6ms/step - loss: 0.3356 - accuracy: 0.8615 - val_loss: 0.3796 - val_accuracy: 0.8478\n",
            "Epoch 35/1000\n",
            "536/536 [==============================] - 3s 5ms/step - loss: 0.3360 - accuracy: 0.8653 - val_loss: 0.3720 - val_accuracy: 0.8478\n",
            "Epoch 36/1000\n",
            "536/536 [==============================] - 3s 5ms/step - loss: 0.3363 - accuracy: 0.8614 - val_loss: 0.3659 - val_accuracy: 0.8474\n",
            "Epoch 36: early stopping\n"
          ]
        }
      ]
    },
    {
      "cell_type": "code",
      "source": [
        "model_history.history.keys()"
      ],
      "metadata": {
        "colab": {
          "base_uri": "https://localhost:8080/"
        },
        "id": "TZFx3nhgPKf1",
        "outputId": "360bf3a0-992a-4491-d1ea-426bc8556d90"
      },
      "execution_count": 67,
      "outputs": [
        {
          "output_type": "execute_result",
          "data": {
            "text/plain": [
              "dict_keys(['loss', 'accuracy', 'val_loss', 'val_accuracy'])"
            ]
          },
          "metadata": {},
          "execution_count": 67
        }
      ]
    },
    {
      "cell_type": "code",
      "source": [
        "# Summarise history for accuracy\n",
        "# Plot the data\n",
        "plt.plot(model_history.history['accuracy'], color='b')\n",
        "plt.plot(model_history.history['val_accuracy'], color='r')\n",
        "# Add a title to the plot\n",
        "plt.title('Model Accuracy')\n",
        "# Set labels for x-axis and y-axis\n",
        "plt.ylabel('Accuracy')\n",
        "plt.xlabel('Epoch')\n",
        "# Add a Legend to the plot\n",
        "plt.legend(['train','test'], loc='upper left')\n",
        "# Show the plot\n",
        "plt.show()\n"
      ],
      "metadata": {
        "colab": {
          "base_uri": "https://localhost:8080/",
          "height": 472
        },
        "id": "GA2053JTMeMf",
        "outputId": "f5b8817c-85ab-43b7-c796-3b94310247c1"
      },
      "execution_count": 68,
      "outputs": [
        {
          "output_type": "display_data",
          "data": {
            "text/plain": [
              "<Figure size 640x480 with 1 Axes>"
            ],
            "image/png": "[encoded data removed]"
          },
          "metadata": {}
        }
      ]
    },
    {
      "cell_type": "code",
      "source": [
        "# Summarise history for Loss\n",
        "# Plot the data\n",
        "plt.plot(model_history.history['loss'], color='b')\n",
        "plt.plot(model_history.history['val_loss'], color='r')\n",
        "# Add a title to the plot\n",
        "plt.title('Model Loss')\n",
        "# Set labels for x-axis and y-axis\n",
        "plt.ylabel('Loss')\n",
        "plt.xlabel('Epoch')\n",
        "# Add a Legend to the plot\n",
        "plt.legend(['train','test'], loc='upper left')\n",
        "# Show the plot\n",
        "plt.show()"
      ],
      "metadata": {
        "colab": {
          "base_uri": "https://localhost:8080/",
          "height": 472
        },
        "id": "W5O5SDzkSksb",
        "outputId": "c63def7e-e0f9-41c2-d5f8-5508ac8479fa"
      },
      "execution_count": 69,
      "outputs": [
        {
          "output_type": "display_data",
          "data": {
            "text/plain": [
              "<Figure size 640x480 with 1 Axes>"
            ],
            "image/png": "[encoded data removed]"
          },
          "metadata": {}
        }
      ]
    },
    {
      "cell_type": "code",
      "source": [
        "# Let us do predictions and evaluating the model\n",
        "y_pred=classifier.predict(X_test)\n",
        "y_pred = (y_pred >= 0.5)"
      ],
      "metadata": {
        "colab": {
          "base_uri": "https://localhost:8080/"
        },
        "id": "TnkXJld2S1fb",
        "outputId": "5a5ca5be-a619-4327-aae6-0211fbe67b91"
      },
      "execution_count": 70,
      "outputs": [
        {
          "output_type": "stream",
          "name": "stdout",
          "text": [
            "63/63 [==============================] - 0s 2ms/step\n"
          ]
        }
      ]
    },
    {
      "cell_type": "code",
      "source": [
        "# Create a confusiom matrix\n",
        "from sklearn.metrics import confusion_matrix\n",
        "cm=confusion_matrix(y_test,y_pred)\n",
        "print(cm)"
      ],
      "metadata": {
        "colab": {
          "base_uri": "https://localhost:8080/"
        },
        "id": "tQ0jinitTaQi",
        "outputId": "6544249e-97dd-4c73-8905-7cb1135667a0"
      },
      "execution_count": 71,
      "outputs": [
        {
          "output_type": "stream",
          "name": "stdout",
          "text": [
            "[[1511   84]\n",
            " [ 207  198]]\n"
          ]
        }
      ]
    },
    {
      "cell_type": "code",
      "source": [
        "# Let us calculate the accuracy\n",
        "from sklearn.metrics import accuracy_score\n",
        "score=accuracy_score(y_pred,y_test)\n",
        "print(score)"
      ],
      "metadata": {
        "colab": {
          "base_uri": "https://localhost:8080/"
        },
        "id": "mQlE_5y1TyG6",
        "outputId": "c737c47f-36f6-41ae-e92a-b86876f8380f"
      },
      "execution_count": 73,
      "outputs": [
        {
          "output_type": "stream",
          "name": "stdout",
          "text": [
            "0.8545\n"
          ]
        }
      ]
    },
    {
      "cell_type": "code",
      "source": [
        "# We can get the weights used in this neural network and store in Pickle file\n",
        "classifier.get_weights()"
      ],
      "metadata": {
        "colab": {
          "base_uri": "https://localhost:8080/"
        },
        "id": "wxH6VjeuUgBR",
        "outputId": "22321821-8bf7-4e35-cbd8-379990577c46"
      },
      "execution_count": 75,
      "outputs": [
        {
          "output_type": "execute_result",
          "data": {
            "text/plain": [
              "[array([[ 1.6924646e-01, -1.6189137e+00, -4.9246871e-01,  1.0917470e+00,\n",
              "          4.3020430e-01,  3.6959973e-01, -1.3541549e-01, -3.8216144e-02,\n",
              "          1.1223799e+00,  6.8983741e-02, -3.7640408e-01],\n",
              "        [-4.0043087e+00, -3.5254147e+00, -1.9312368e-01, -4.2079911e+00,\n",
              "          1.4150617e-01, -6.4598966e-01,  4.7271758e-02, -1.8720242e+00,\n",
              "          5.0374162e-01,  1.4134017e+00, -2.8500865e+00],\n",
              "        [-7.8970087e-01,  1.1038299e+00, -4.9635541e-01, -1.5237207e-03,\n",
              "         -1.1461732e+00,  1.0126269e+00,  1.3310289e-01,  1.9138548e-01,\n",
              "          3.6969116e-01, -2.4646828e-01, -7.6686966e-01],\n",
              "        [-2.3329577e-01,  5.4219414e-02, -2.1764364e+00, -2.3444016e-01,\n",
              "          2.1432610e+00, -3.8131914e+00,  1.0420086e+00, -3.1436172e+00,\n",
              "         -9.8668587e-01,  3.4497476e-01, -5.1337880e-01],\n",
              "        [ 7.5857669e-01,  3.1128845e-01, -5.1710215e+00, -8.2469052e-01,\n",
              "          2.5243251e+00,  1.9796668e+00,  4.1376925e+00, -1.2391219e+00,\n",
              "          2.4760399e+00, -7.2792822e-01, -3.7382403e-01],\n",
              "        [-8.5019797e-01, -6.2304473e-01, -3.0704755e-01, -1.0803953e+00,\n",
              "         -5.0947112e-01, -7.4670208e-01, -1.3793550e-01,  9.4093460e-01,\n",
              "         -1.7193644e-01, -2.3891412e-01,  8.3461112e-01],\n",
              "        [-2.2781432e+00,  2.6501822e-01, -2.4165804e+00, -9.6970707e-01,\n",
              "         -1.6827185e+00,  6.4818275e-01, -1.2726567e+00,  3.3837718e-01,\n",
              "         -8.3240283e-01, -2.8052025e+00, -6.4002663e-01],\n",
              "        [ 3.7628525e-01, -2.0454235e+00,  6.0511696e-01, -4.6641204e-01,\n",
              "         -1.0846508e+00,  2.0868187e+00,  4.9252871e-01,  1.1455911e+00,\n",
              "         -1.1096606e+00,  2.7261356e-01,  4.0122619e-01],\n",
              "        [-3.3599272e-01,  3.4500375e-01,  6.9878995e-01, -5.8340544e-01,\n",
              "         -2.8215921e-01, -2.5174668e-01,  6.1339144e-02,  1.1452417e+00,\n",
              "          2.2292590e-01, -1.1543502e+00, -3.0375096e-01],\n",
              "        [-4.2566985e-01,  6.5089977e-01, -1.9656885e-01, -3.3593690e-01,\n",
              "          6.2448233e-01, -8.2447641e-02, -1.5087615e-01, -1.1008304e+00,\n",
              "         -8.2719851e-01,  3.3312222e-01, -1.0242602e+00],\n",
              "        [-1.7732631e-01,  4.6179542e-01, -5.1120782e-01,  9.7684240e-01,\n",
              "          4.8217344e-01,  3.8978350e-01, -2.2210741e-02,  3.5815939e-02,\n",
              "          4.5551491e-01, -4.5824063e-01,  6.2500763e-01],\n",
              "        [-4.0029921e-02,  1.1197182e+00,  9.6631980e-01, -2.9985037e-01,\n",
              "         -2.4271956e-01, -1.4740269e-01,  3.4806800e-01,  9.6232247e-01,\n",
              "         -1.4515623e-03, -1.0494094e+00,  9.1881067e-02],\n",
              "        [-3.1299973e-01,  4.2429581e-01, -2.8669077e-01, -6.0406327e-02,\n",
              "          3.0237588e-01, -1.3941887e-01,  2.8537923e-01, -4.2967513e-01,\n",
              "         -9.1190493e-01, -2.1205594e-01, -1.0217146e+00],\n",
              "        [-3.7193066e-01, -1.0331122e-01, -2.1901897e-01,  1.4343132e+00,\n",
              "          5.1102978e-01,  4.0440077e-01, -2.9318765e-02,  2.2542119e-01,\n",
              "          4.1541359e-01,  2.3523355e-01,  2.8024966e-01],\n",
              "        [-4.7399417e-01,  1.0169477e+00,  5.6723696e-01, -7.2424179e-01,\n",
              "         -6.7358857e-01, -3.9351994e-01, -5.3363848e-01,  5.4545915e-01,\n",
              "         -2.3444171e-01, -6.7749822e-01, -3.8024399e-01],\n",
              "        [-1.9865884e-01,  9.1997099e-01, -4.7517732e-01, -7.4879080e-03,\n",
              "         -1.2059712e-01, -6.1904132e-01, -3.5262066e-01, -6.4172226e-01,\n",
              "         -8.3582604e-01,  3.4333488e-01, -9.5615238e-01],\n",
              "        [-2.5645763e-01,  2.6389802e-01,  2.6643762e-01,  1.4260377e+00,\n",
              "          1.5122922e-01, -1.5377422e-01, -2.5564900e-01, -4.4525493e-02,\n",
              "          7.4158621e-01, -5.6367368e-01,  2.7294320e-01]], dtype=float32),\n",
              " array([ 3.2654855 , -2.0249462 ,  0.7146674 , -1.1854551 , -2.6142623 ,\n",
              "        -1.7426603 , -3.4755597 , -2.9814503 , -3.687941  , -4.3251705 ,\n",
              "         0.14649336], dtype=float32),\n",
              " array([[-0.26944673,  0.67464453, -2.4308267 ,  0.28022105, -1.2464979 ,\n",
              "         -0.1808681 ],\n",
              "        [-0.5324286 , -1.2636852 , -0.7552089 ,  1.0525109 , -0.1893112 ,\n",
              "         -0.08691823],\n",
              "        [-0.25605074, -1.1466945 , -2.1740856 , -2.3795197 ,  1.3417646 ,\n",
              "         -0.47576544],\n",
              "        [-0.608625  ,  0.91415155,  0.82571983,  0.10423589, -1.2438955 ,\n",
              "         -0.552402  ],\n",
              "        [-0.26294878, -1.0759431 , -0.527941  ,  0.22390541,  1.0861151 ,\n",
              "         -0.25082946],\n",
              "        [-0.10174546, -1.1381892 ,  1.0097672 ,  1.365271  ,  1.1607945 ,\n",
              "         -0.29865047],\n",
              "        [-0.02220421,  0.07292738, -1.3553685 , -2.5597725 ,  2.2013404 ,\n",
              "          0.05020481],\n",
              "        [-0.5695385 , -1.2930292 ,  0.7609386 ,  1.2920119 , -0.9852439 ,\n",
              "          0.05192772],\n",
              "        [ 0.08981125, -2.0279999 ,  0.47100535,  1.0007303 ,  0.79663354,\n",
              "         -0.26907513],\n",
              "        [-0.16777128, -0.5206594 , -1.5182256 , -0.59469694,  1.4094074 ,\n",
              "         -0.17771006],\n",
              "        [-0.57832927,  0.40453553,  1.2053684 ,  0.13191606, -0.22620553,\n",
              "         -0.31259158]], dtype=float32),\n",
              " array([-0.62802505,  0.54178876, -0.5821111 ,  0.01421893, -0.79327583,\n",
              "        -0.42257637], dtype=float32),\n",
              " array([[ 0.16334341,  0.26212123,  0.59111905, -0.12572376,  0.21615158,\n",
              "         -0.16224374, -0.31116113],\n",
              "        [-0.3062377 ,  0.14542148, -0.18039408,  0.28768808, -1.2989571 ,\n",
              "         -0.6800682 , -1.138285  ],\n",
              "        [ 0.45336646, -0.9021585 , -0.20417045,  1.8698182 , -0.21090378,\n",
              "         -0.20413578, -0.40569216],\n",
              "        [-0.15093926, -0.83440804, -0.04791525,  0.76141113, -1.3243542 ,\n",
              "         -0.08145712, -1.6499958 ],\n",
              "        [-1.2486358 ,  0.37208498, -0.70562524, -1.2145718 ,  1.021872  ,\n",
              "         -0.4261745 , -0.54518545],\n",
              "        [ 0.36215562,  0.31840327, -0.4237491 , -0.5740816 , -0.29169393,\n",
              "          0.46197724,  0.5509698 ]], dtype=float32),\n",
              " array([-0.01741768, -2.9211903 , -0.35068554,  0.65144813, -0.3014401 ,\n",
              "        -0.3649251 ,  1.3909945 ], dtype=float32),\n",
              " array([[-0.00829662, -0.02279056, -0.18020312,  0.10902469, -0.00642326,\n",
              "         -0.20347992],\n",
              "        [-0.18372352, -0.01860349, -0.5244288 ,  0.27330068, -0.39212263,\n",
              "          0.42223033],\n",
              "        [-0.00209298, -0.48678732, -0.3313208 , -0.26271453, -1.1884669 ,\n",
              "          0.13656901],\n",
              "        [ 0.4586549 , -0.28584462, -0.829293  , -0.20566948, -0.03911693,\n",
              "         -0.53256124],\n",
              "        [-1.182945  , -0.7475992 , -0.02077088,  0.707106  , -0.32432526,\n",
              "         -0.5748158 ],\n",
              "        [-0.09076273,  0.34134218, -0.02312791,  0.17762834, -0.7148813 ,\n",
              "         -0.16785286],\n",
              "        [-1.1060183 , -0.03548566, -0.07761019,  0.6876824 ,  0.07632696,\n",
              "         -0.81766987]], dtype=float32),\n",
              " array([ 0.7506309 , -0.51691574, -1.0705345 , -1.0417776 , -0.47016895,\n",
              "        -0.25310978], dtype=float32),\n",
              " array([[-0.40370488],\n",
              "        [ 0.37005264],\n",
              "        [ 0.25632122],\n",
              "        [ 0.39209697],\n",
              "        [ 0.23235174],\n",
              "        [ 0.05914477]], dtype=float32),\n",
              " array([-1.3489408], dtype=float32)]"
            ]
          },
          "metadata": {},
          "execution_count": 75
        }
      ]
    },
    {
      "cell_type": "code",
      "source": [
        "# CNN Approach"
      ],
      "metadata": {
        "id": "tecJmZB8YRl4"
      },
      "execution_count": null,
      "outputs": []
    }
  ]
}