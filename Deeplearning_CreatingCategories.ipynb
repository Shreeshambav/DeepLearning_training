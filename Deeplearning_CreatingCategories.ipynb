{
  "nbformat": 4,
  "nbformat_minor": 0,
  "metadata": {
    "colab": {
      "provenance": [],
      "authorship_tag": "ABX9TyMOtkHDbZaq9VYxeSziN48K",
      "include_colab_link": true
    },
    "kernelspec": {
      "name": "python3",
      "display_name": "Python 3"
    },
    "language_info": {
      "name": "python"
    }
  },
  "cells": [
    {
      "cell_type": "markdown",
      "metadata": {
        "id": "view-in-github",
        "colab_type": "text"
      },
      "source": [
        "<a href=\"https://colab.research.google.com/github/Shreeshambav/DeepLearning_training/blob/main/Deeplearning_CreatingCategories.ipynb\" target=\"_parent\"><img src=\"https://colab.research.google.com/assets/colab-badge.svg\" alt=\"Open In Colab\"/></a>"
      ]
    },
    {
      "cell_type": "code",
      "execution_count": null,
      "metadata": {
        "id": "roBj_yDf4iKF"
      },
      "outputs": [],
      "source": []
    },
    {
      "cell_type": "code",
      "source": [
        "### Step3: Feature engineering the data\n",
        "import pandas as pd\n",
        "# Read input files\n",
        "file_path_merged = 'C:\\\\Users\\\\mraj4\\\\Documents\\\\OptimumPython\\\\DS\\\\DL\\\\Sunoida\\\\Budget_merged_file_Cat_working.xlsx'\n",
        "df_merged_group_cat = pd.read_excel(file_path_merged)\n",
        "\n",
        "# Problem statement: What should be the budget alloocated for next financial year.\n",
        "# For further analysis we need to divide daatset into independent and dependent features\n",
        "# MRL_Category is dependent column and rest are independent\n",
        "# Following column do not add any value to analysis:\n",
        "# Selection of Columns: LE_BOOK(2), OFFICE_ACCOUNT(3), VISION_SBU(5), ACCOUNT_OFFICER(6), PRODUCT(9)\n",
        "print(df_merged_group_cat)\n",
        "\n",
        "# Assuming df_merged_group_cat is the DataFrame containing the data\n",
        "columns_to_drop = ['LE_BOOK', 'OFFICE_ACCOUNT', 'VISION_SBU', 'ACCOUNT_OFFICER', 'PRODUCT']\n",
        "df_merged_group_cat = df_merged_group_cat.drop(columns=columns_to_drop)\n",
        "df_merged_group_cat.shape\n",
        "\n",
        "# Preparing Category for encodeing\n",
        "category_mapping = {\n",
        "    1: 'Cat1',\n",
        "    2: 'Cat2',\n",
        "    3: 'Cat3',\n",
        "    4: 'Cat4'\n",
        "}\n",
        "\n",
        "df_merged_group_cat['MRL_Category'] = df_merged_group_cat['MRL_Category'].replace(category_mapping)\n",
        "\n",
        "# Assuming df_merged_group_cat is the DataFrame containing the data\n",
        "# One-hot encode the \"MRL_Category\" column\n",
        "encoded_categories = pd.get_dummies(df_merged_group_cat[\"MRL_Category\"], prefix=\"MRL_Category\")\n",
        "\n",
        "# Drop the original \"MRL_Category\" column\n",
        "df_merged_group_cat.drop(columns=[\"MRL_Category\"], inplace=True)\n",
        "\n",
        "# Concatenate the encoded columns with the original DataFrame\n",
        "df_merged_group_cat = pd.concat([df_merged_group_cat, encoded_categories], axis=1)\n",
        "print(df_merged_group_cat)\n",
        "df_merged_group_cat.isnull().sum()"
      ],
      "metadata": {
        "id": "YOhlnKFy4i7S"
      },
      "execution_count": null,
      "outputs": []
    },
    {
      "cell_type": "code",
      "source": [
        "import pandas as pd\n",
        "import seaborn as sns\n",
        "import matplotlib.pyplot as plt\n",
        "\n",
        "# Assuming you have the dataset in a DataFrame named 'df_merged_group_cat'\n",
        "\n",
        "# Step 1: Select the relevant columns for analysis\n",
        "selected_columns = [\"01\", \"02\", \"03\", \"04\", \"05\", \"06\", \"07\", \"08\", \"09\", \"10\", \"11\", \"12\", \"MRL_Category_Cat1\", \"MRL_Category_Cat2\", \"MRL_Category_Cat3\", \"MRL_Category_Cat4\", \"Year\"]\n",
        "selected_data = df_merged_group_cat[selected_columns]\n",
        "\n",
        "print(\"Started..............................\")\n",
        "\n",
        "# Step 2: Group data by 'Year'\n",
        "grouped_data = selected_data.groupby('Year')\n",
        "\n",
        "# Step 3: Create histograms and box plots\n",
        "unique_months = selected_data.loc[:, \"10\":\"21\"].columns\n",
        "\n",
        "print(\"entering to plot .............\")\n",
        "# Histograms\n",
        "plt.figure(figsize=(16, 10))\n",
        "for i, month in enumerate(unique_months, 1):\n",
        "    plt.subplot(3, 4, i)\n",
        "    for year, group_df in grouped_data:\n",
        "        month_data = group_df[month]\n",
        "        sns.histplot(month_data, kde=True, label=f'Year {year}', alpha=0.7)\n",
        "\n",
        "    plt.xlabel(f\"Month {month}\")\n",
        "    plt.ylabel(\"Frequency\")\n",
        "    plt.title(f\"Histogram Comparison for Month {month} across Years\")\n",
        "    plt.legend()\n",
        "\n",
        "plt.tight_layout()\n",
        "plt.show()\n",
        "\n",
        "# Box plots\n",
        "plt.figure(figsize=(16, 10))\n",
        "for i, month in enumerate(unique_months, 1):\n",
        "    plt.subplot(3, 4, i)\n",
        "    sns.boxplot(x=\"Year\", y=month, data=selected_data)\n",
        "    plt.title(f\"Box Plot for Month {month} across Years\")\n",
        "    plt.xlabel(\"Year\")\n",
        "    plt.ylabel(f\"Month {month}\")\n",
        "\n",
        "plt.tight_layout()\n",
        "plt.show()"
      ],
      "metadata": {
        "id": "U16cmHkb4jJg"
      },
      "execution_count": null,
      "outputs": []
    }
  ]
}